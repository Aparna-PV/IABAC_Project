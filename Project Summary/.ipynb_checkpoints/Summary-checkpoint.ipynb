{
 "cells": [
  {
   "cell_type": "markdown",
   "id": "a92d1011-a024-4c3b-8652-8064027d01b8",
   "metadata": {},
   "source": [
    "# SUMMARY"
   ]
  },
  {
   "cell_type": "markdown",
   "id": "064b0216-7c88-488f-ad35-06f3dd06d903",
   "metadata": {},
   "source": [
    "## PROJECT SUMMARY"
   ]
  },
  {
   "cell_type": "markdown",
   "id": "e5121f31-cdfe-411f-9c29-542361751be8",
   "metadata": {},
   "source": [
    "1. *The algorithm and training method(s) you used (Such as SVM, Neural Network, etc.)*\n",
    "\n",
    "   The different algorithms I used in the project are:\n",
    "   \n",
    "   - **Random Forest Classifier**\n",
    "   - **Decision Tree Classifier**\n",
    "   - **XGBoost Classifier**\n",
    "   - **Logistic Regression**\n",
    "   - **SVM**\n",
    "   - **KNN**\n",
    "   - **Neural network model**"
   ]
  },
  {
   "cell_type": "markdown",
   "id": "afd24e71-24ae-40b0-81db-eb4f53a894e8",
   "metadata": {},
   "source": [
    "2. *The most important features selected for analysis and why? (Whether techniques such as PCA Factorization used)*\n",
    "\n",
    "    I didn't try PCA because there were only 28 features. Rather, I obtained feature relevance scores by employing the XGBoost model in the    feature selection process. Three irrevalant traits were eliminated as a result.\n",
    "  - Additionally, I eliminated constant features like EmpNumber. Using my domain expertise, I arrived at that conclusion. \n",
    "  - Five features influenced the objective feature, performanceRating: {YearsSinceLastPromotion},{EmpEnvironmentSatisfaction},{EmpDepartment_Development},{EmpLastSalaryHikePercent} and {ExperienceYearsInCurrentRole}.\n",
    "    \n",
    "    \n",
    "  - To illustrate the relationship between each characteristic, the dataset's heatmap was also plotted."
   ]
  },
  {
   "cell_type": "markdown",
   "id": "23383da6-56d4-4226-84ad-014c2de05c1f",
   "metadata": {
    "tags": []
   },
   "source": [
    "3. *Other techniques and tools used in the project.*\n",
    "\n",
    "  - Basic inspections have been completed. \n",
    "  - Analyzed exploratory data with a histplot and a countplot.\n",
    "    \n",
    "   - Used Tableau for the identical purpose. \n",
    "   - Preprocessing steps for data:\n",
    "  - Dealt with values that were missing \n",
    "  - Because categorical characteristics are nominal values, they were encoded manually.\n",
    "   - SVM, KNN, and logistic regression all undergo scaling. We utilized non-scaled data for the other models.\n",
    "\n",
    "    "
   ]
  },
  {
   "cell_type": "markdown",
   "id": "5f4e290c-cf9b-4639-a69c-38dfaa3869f9",
   "metadata": {},
   "source": [
    "## FEATURES SELECTION / ENGINEERING"
   ]
  },
  {
   "cell_type": "markdown",
   "id": "1d481c1b-e913-457b-a78b-b33fc314b559",
   "metadata": {},
   "source": [
    "1. *Did you make any important feature transformations?*\n",
    "\n",
    "    I was able to avoid using feature transformation techniques like log, square, square root, reciprocal, etc. because they produced a lower model score. I tried using standard scaling, but it had the same result."
   ]
  },
  {
   "cell_type": "markdown",
   "id": "86c0214f-3ac0-48af-8d19-cd7d6e334e5c",
   "metadata": {
    "tags": []
   },
   "source": [
    "2. *Correlation or interactions among the features selected and how it is considered?*\n",
    "\n",
    "    Correlation between the features were checked using heatmap and feature selection was done using XGBoost model."
   ]
  },
  {
   "cell_type": "markdown",
   "id": "145d116f-f213-483d-9133-6e61e68e03bb",
   "metadata": {},
   "source": [
    "## RESULTS, ANALYSIS AND INSIGHTS"
   ]
  },
  {
   "cell_type": "markdown",
   "id": "4f1ea070-a46e-4c15-9b11-35372775313a",
   "metadata": {},
   "source": [
    "1. *Did you find any interesting relationships in the data that don't fit in the sections above?*\n",
    "\n",
    "- Employees with a lot of experience who are female have outstanding performance ratings and receive compensation increases of {more than 20%}, whereas experienced male employees can still achieve fantastic performance ratings with salary increases of ~10%}. \n",
    "- The performance rating is low for the following roles: Manufacturing Director, Finance Manager, Laboratory Technician, Human Resources, and Seniour Manager R&D. The departments of finance, human resources, and research and development are performing worse as experience grows. \n",
    "-The cause can be that they aren't getting credit for their efforts."
   ]
  },
  {
   "cell_type": "markdown",
   "id": "19b7eb11-e0c3-4e7c-9a11-1be8fa4e0765",
   "metadata": {},
   "source": [
    "2. *What is most important technique you used in this project?*\n",
    "\n",
    "    The most important technique I believe that I used in this project is hyperparameter tuning. It's because before hyperparameter tuning the most optimal model that fit the data was Random Forest, but after finetuning XGBoost started performing better."
   ]
  },
  {
   "cell_type": "markdown",
   "id": "2ffe6a92-6028-456a-b47b-dd6b9ed880e6",
   "metadata": {},
   "source": [
    "3. *Provide clear answers to the business problems mentioned in the project on basis of analysis.*\n",
    "\n",
    "    1. **Department wise performances** :\n",
    "        From the graph we can understand that employees from `Development` department has the highest performance rating, and the `Finance` department has got the lowest performance rating.\n",
    "    2. **Top 5 Important Factors effecting employee performance** :\n",
    "        YearsSinceLastPromotion},{EmpEnvironmentSatisfaction}{EmpDepartment_Development},{EmpLastSalaryHikePercent} and {ExperienceYearsInCurrentRole}.\n",
    "    3. **A trained model which can predict the employee performance based on factors as inputs. This will be used to hire employees** :\n",
    "        Trained the dataset on multiple models and `XGBoost` as best performing generalized model.\n",
    "     4. **Recommendations to improve the employee performance based on insights from analysis** :   \n",
    "       - Employees who are unmarried or divorced are being significantly impacted by the salary boost %. For these people, concentrating economic well-being is crucial.\n",
    "        - Performance-related attrition primarily affects the highest hierarchical levels.\n",
    "\n",
    "        Attrition mostly affects the Development division. Even if level 1 employees are receiving a good pay increase, attrition is still occurring. The relationship between the hourly rate and performance rating is marginally negative. It would be wise to take such criteria into account. Take into account the market's desire for the development department as well."
   ]
  },
  {
   "cell_type": "markdown",
   "id": "3377bce1-c580-481e-b9d6-a7a94feacd27",
   "metadata": {
    "tags": []
   },
   "source": [
    "4. *More business insights you gain from the analysis.*\n",
    "\n",
    "    Male employees report higher job satisfaction than female employees. - Female employees' average performance declines with experience while male employees' average performance rises with experience.\n",
    "  - While highly experienced male employees can still have an excellent performance rating with a salary rise of ~10%}, highly experienced female employees have a higher performance rating with a salary hike of {more than 20%}. \n",
    "\n",
    "  - The hourly rate has little bearing on the performance rating of highly experienced workers."
   ]
  }
 ],
 "metadata": {
  "kernelspec": {
   "display_name": "datamites",
   "language": "python",
   "name": "datamites"
  },
  "language_info": {
   "codemirror_mode": {
    "name": "ipython",
    "version": 3
   },
   "file_extension": ".py",
   "mimetype": "text/x-python",
   "name": "python",
   "nbconvert_exporter": "python",
   "pygments_lexer": "ipython3",
   "version": "3.11.5"
  }
 },
 "nbformat": 4,
 "nbformat_minor": 5
}
